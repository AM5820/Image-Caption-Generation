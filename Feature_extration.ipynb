{
 "cells": [
  {
   "cell_type": "markdown",
   "id": "df8101d7",
   "metadata": {},
   "source": [
    "# Feature extraction with VGG-16"
   ]
  },
  {
   "cell_type": "code",
   "execution_count": 68,
   "id": "ca7c6e28",
   "metadata": {},
   "outputs": [],
   "source": [
    "import numpy as np\n",
    "import pandas as pd\n",
    "import matplotlib.pyplot as plt\n",
    "import os\n",
    "import glob"
   ]
  },
  {
   "cell_type": "code",
   "execution_count": 21,
   "id": "13999a24",
   "metadata": {},
   "outputs": [],
   "source": [
    "import tensorflow as tf\n",
    "from tensorflow.keras.preprocessing import image\n",
    "from tensorflow.keras.models import Model"
   ]
  },
  {
   "cell_type": "markdown",
   "id": "2177b6cb",
   "metadata": {},
   "source": [
    "### creating model"
   ]
  },
  {
   "cell_type": "code",
   "execution_count": 4,
   "id": "9b3a7897",
   "metadata": {},
   "outputs": [],
   "source": [
    "vgg = tf.keras.applications.vgg16.VGG16()"
   ]
  },
  {
   "cell_type": "code",
   "execution_count": 22,
   "id": "7cf48e0e",
   "metadata": {},
   "outputs": [],
   "source": [
    "output = vgg.layers[-2].output"
   ]
  },
  {
   "cell_type": "code",
   "execution_count": 33,
   "id": "e82b72d7",
   "metadata": {},
   "outputs": [],
   "source": [
    "# acts as encoder\n",
    "model = Model(inputs=vgg.input , outputs=output)"
   ]
  },
  {
   "cell_type": "markdown",
   "id": "399c9903",
   "metadata": {},
   "source": [
    "### extracting features"
   ]
  },
  {
   "cell_type": "code",
   "execution_count": 30,
   "id": "db94d998",
   "metadata": {},
   "outputs": [],
   "source": [
    "def extract_features(img):\n",
    "    img = image.load_img(img,target_size=(224,224))\n",
    "    img = image.img_to_array(img)\n",
    "    img = np.expand_dims(img,axis=0)\n",
    "    img = tf.keras.applications.vgg16.preprocess_input(img)\n",
    "    features = model.predict(img)\n",
    "    return features"
   ]
  },
  {
   "cell_type": "markdown",
   "id": "19a6c4ab",
   "metadata": {},
   "source": [
    "### Build feature_set"
   ]
  },
  {
   "cell_type": "code",
   "execution_count": 69,
   "id": "f7efa3ed",
   "metadata": {},
   "outputs": [],
   "source": [
    "dataset_path = 'E:/Web/Dataset/Flickr8k/Images/'\n",
    "caption_path = 'E:/Web/Dataset/Flickr8k/captions.txt'"
   ]
  },
  {
   "cell_type": "code",
   "execution_count": 106,
   "id": "dc9150f5",
   "metadata": {},
   "outputs": [],
   "source": [
    "feature_set = {}\n",
    "for img in glob.glob(dataset_path+'*.*'):\n",
    "    \n",
    "    feature = extract_features(img)\n",
    "    \n",
    "    # get image name only\n",
    "    img_name = os.path.basename(img).split('.')[0]\n",
    "    \n",
    "    feature_set[img_name] = feature"
   ]
  },
  {
   "cell_type": "code",
   "execution_count": 109,
   "id": "12b9ad27",
   "metadata": {},
   "outputs": [
    {
     "data": {
      "text/plain": [
       "8091"
      ]
     },
     "execution_count": 109,
     "metadata": {},
     "output_type": "execute_result"
    }
   ],
   "source": [
    "len(feature_set)"
   ]
  },
  {
   "cell_type": "markdown",
   "id": "9bc46c9f",
   "metadata": {},
   "source": [
    "### Saving feature_set"
   ]
  },
  {
   "cell_type": "code",
   "execution_count": 110,
   "id": "e0e07b58",
   "metadata": {},
   "outputs": [],
   "source": [
    "import pickle"
   ]
  },
  {
   "cell_type": "code",
   "execution_count": 111,
   "id": "ff25054c",
   "metadata": {},
   "outputs": [],
   "source": [
    "with open('feature_set.pickle','wb') as f:\n",
    "    pickle.dump(feature_set,f,protocol=pickle.HIGHEST_PROTOCOL)"
   ]
  },
  {
   "cell_type": "code",
   "execution_count": null,
   "id": "0ac1d629",
   "metadata": {},
   "outputs": [],
   "source": []
  }
 ],
 "metadata": {
  "kernelspec": {
   "display_name": "Python 3",
   "language": "python",
   "name": "python3"
  },
  "language_info": {
   "codemirror_mode": {
    "name": "ipython",
    "version": 3
   },
   "file_extension": ".py",
   "mimetype": "text/x-python",
   "name": "python",
   "nbconvert_exporter": "python",
   "pygments_lexer": "ipython3",
   "version": "3.7.2"
  }
 },
 "nbformat": 4,
 "nbformat_minor": 5
}
