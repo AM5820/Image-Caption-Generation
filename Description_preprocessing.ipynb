{
 "cells": [
  {
   "cell_type": "code",
   "execution_count": 1,
   "id": "98ccab2e",
   "metadata": {},
   "outputs": [],
   "source": [
    "import numpy as np\n",
    "import pandas as pd\n",
    "import matplotlib.pyplot as plt\n",
    "import re"
   ]
  },
  {
   "cell_type": "code",
   "execution_count": 2,
   "id": "3724f5b5",
   "metadata": {},
   "outputs": [],
   "source": [
    "caption_path = 'E:/Web/Dataset/Flickr8k/captions.txt'"
   ]
  },
  {
   "cell_type": "code",
   "execution_count": 3,
   "id": "15612d7e",
   "metadata": {
    "scrolled": true
   },
   "outputs": [
    {
     "data": {
      "text/html": [
       "<div>\n",
       "<style scoped>\n",
       "    .dataframe tbody tr th:only-of-type {\n",
       "        vertical-align: middle;\n",
       "    }\n",
       "\n",
       "    .dataframe tbody tr th {\n",
       "        vertical-align: top;\n",
       "    }\n",
       "\n",
       "    .dataframe thead th {\n",
       "        text-align: right;\n",
       "    }\n",
       "</style>\n",
       "<table border=\"1\" class=\"dataframe\">\n",
       "  <thead>\n",
       "    <tr style=\"text-align: right;\">\n",
       "      <th></th>\n",
       "      <th>image</th>\n",
       "      <th>caption</th>\n",
       "    </tr>\n",
       "  </thead>\n",
       "  <tbody>\n",
       "    <tr>\n",
       "      <th>13690</th>\n",
       "      <td>2712352554_1cafd32812.jpg</td>\n",
       "      <td>A boy does a skateboard trick off a metal plank .</td>\n",
       "    </tr>\n",
       "    <tr>\n",
       "      <th>29813</th>\n",
       "      <td>3501206996_477be0f318.jpg</td>\n",
       "      <td>Child playing with soccer ball in a field .</td>\n",
       "    </tr>\n",
       "  </tbody>\n",
       "</table>\n",
       "</div>"
      ],
      "text/plain": [
       "                           image  \\\n",
       "13690  2712352554_1cafd32812.jpg   \n",
       "29813  3501206996_477be0f318.jpg   \n",
       "\n",
       "                                                 caption  \n",
       "13690  A boy does a skateboard trick off a metal plank .  \n",
       "29813        Child playing with soccer ball in a field .  "
      ]
     },
     "execution_count": 3,
     "metadata": {},
     "output_type": "execute_result"
    }
   ],
   "source": [
    "caption_df = pd.read_csv(caption_path)\n",
    "caption_df.sample(2)"
   ]
  },
  {
   "cell_type": "markdown",
   "id": "a0083700",
   "metadata": {},
   "source": [
    "## Preprocessing descriptions"
   ]
  },
  {
   "cell_type": "code",
   "execution_count": 55,
   "id": "9d236998",
   "metadata": {},
   "outputs": [],
   "source": [
    "desc = {}\n",
    "for img_name,img_desc in zip(caption_df.image,caption_df.caption):\n",
    "    if img_name not in desc:\n",
    "        desc[img_name] = []\n",
    "        \n",
    "    desc[img_name].append(img_desc)"
   ]
  },
  {
   "cell_type": "code",
   "execution_count": 56,
   "id": "1596f3f4",
   "metadata": {},
   "outputs": [],
   "source": [
    "def preprocess_caption(caption):\n",
    "    s = caption.lower()\n",
    "    re.sub('[^a-z ]','',s)\n",
    "    s = [word for word in s.split() if len(word)>1]\n",
    "    s = ' '.join(s)\n",
    "    return s"
   ]
  },
  {
   "cell_type": "code",
   "execution_count": 58,
   "id": "fb06363d",
   "metadata": {},
   "outputs": [],
   "source": [
    "desc_clean = {} \n",
    "for img_name,img_desc in desc.items():\n",
    "    \n",
    "    if img_name not in desc_clean:\n",
    "        desc_clean[img_name] = []\n",
    "        \n",
    "    caption_list=[]\n",
    "    for caption in img_desc:\n",
    "        caption_list.append(preprocess_caption(caption))\n",
    "    \n",
    "    desc_clean[img_name] = caption_list"
   ]
  },
  {
   "cell_type": "code",
   "execution_count": 66,
   "id": "35b82c17",
   "metadata": {},
   "outputs": [],
   "source": [
    "assert len(desc_clean) == len(desc)"
   ]
  },
  {
   "cell_type": "markdown",
   "id": "39939251",
   "metadata": {},
   "source": [
    "## Saving cleaned description to pickle"
   ]
  },
  {
   "cell_type": "code",
   "execution_count": 73,
   "id": "2da735e3",
   "metadata": {},
   "outputs": [],
   "source": [
    "import pickle\n",
    "with open('desc_clean.pickle','wb') as f :\n",
    "    pickle.dump(desc_clean,f,protocol=pickle.HIGHEST_PROTOCOL)"
   ]
  },
  {
   "cell_type": "code",
   "execution_count": 74,
   "id": "0e96ab35",
   "metadata": {},
   "outputs": [],
   "source": [
    "with open('desc_clean.pickle','rb') as f :\n",
    "    p = pickle.load(f)"
   ]
  }
 ],
 "metadata": {
  "kernelspec": {
   "display_name": "Python 3",
   "language": "python",
   "name": "python3"
  },
  "language_info": {
   "codemirror_mode": {
    "name": "ipython",
    "version": 3
   },
   "file_extension": ".py",
   "mimetype": "text/x-python",
   "name": "python",
   "nbconvert_exporter": "python",
   "pygments_lexer": "ipython3",
   "version": "3.7.2"
  }
 },
 "nbformat": 4,
 "nbformat_minor": 5
}
